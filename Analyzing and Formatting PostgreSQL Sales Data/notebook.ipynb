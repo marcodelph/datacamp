{
 "cells": [
  {
   "cell_type": "markdown",
   "id": "67093a14-568f-4fee-b807-eb0f3ceee0d3",
   "metadata": {},
   "source": [
    "# Cleaning a PostgreSQL Database\n",
    "![Clean PostgreSQL Database](Project_Image.jpeg)\n",
    "\n",
    "In this project, you will work with data from a hypothetical Super Store to challenge and enhance your SQL skills in data cleaning. This project will engage you in identifying top categories based on the highest profit margins and detecting missing values, utilizing your comprehensive knowledge of SQL concepts.\n",
    "\n",
    "## Data Dictionary:\n",
    "\n",
    "### `orders`:\n",
    "| Column | Definition | Data type | Comments |\n",
    "|--------|------------|-----------|----------|\n",
    "| `row_id`| Unique Record ID | `INTEGER` |\n",
    "| `order_id` | Identifier for each order in table | `TEXT` | Connects to `order_id` in `returned_orders` table |\n",
    "| `order_date` | Date when order was placed | `TEXT` |\n",
    "| `market` | Market order_id belongs to | `TEXT` |\n",
    "| `region` | Region Customer belongs to | `TEXT` | Connects to `region` in `people` table |\n",
    "| `product_id` | Identifier of Product bought | `TEXT` | Connects to `product_id` in `products` table |\n",
    "| `sales` | Total Sales Amount for the Line Item | `DOUBLE PRECISION` |\n",
    "| `quantity` | Total Quantity for the Line Item | `DOUBLE PRECISION` |\n",
    "| `discount` | Discount applied for the Line Item | `DOUBLE PRECISION` |\n",
    "| `profit` | Total Profit earned on the Line Item | `DOUBLE PRECISION` |\n",
    "\n",
    "### `returned_orders`:\n",
    "| Column | Definition | Data type |\n",
    "|--------|------------|-----------|\n",
    "| `returned`| Yes values for Order / Line Item Returned | `TEXT` |\n",
    "| `order_id` | Identifier for each order in table | `TEXT` |\n",
    "| `market` | Market order_id belongs to | `TEXT` |\n",
    "\n",
    "### `people`:\n",
    "| Column | Definition | Data type |\n",
    "|--------|------------|-----------|\n",
    "| `person`| Name of Salesperson credited with Order | `TEXT` |\n",
    "| `region` | Region Salesperson in operating in | `TEXT` |\n",
    "\n",
    "### `products`:\n",
    "| Column | Definition | Data type |\n",
    "|--------|------------|-----------|\n",
    "| `product_id`| Unique Identifier for the Product | `TEXT` |\n",
    "| `category` | Category Product belongs to | `TEXT` |\n",
    "| `sub_category` | Sub Category Product belongs to | `TEXT` |\n",
    "| `product_name` | Detailed Name of the Product | `TEXT` |\n",
    "\n",
    "As you can see in the Data Dictionary above, date fields have been written to the `orders` table as `TEXT` and numeric fields like sales, profit, etc. have been written to the `orders` table as `Double Precision`. You will need to take care of these types in some of the queries. This project is an excellent opportunity to apply your SQL skills in a practical setting and gain valuable experience in data cleaning and analysis. Good luck, and happy querying!"
   ]
  },
  {
   "cell_type": "markdown",
   "id": "1b54e0f9",
   "metadata": {},
   "source": [
    "Find the top 5 products from each category based on highest total sales. The output should be sorted by category in ascending order and by sales in descending order within each category, i.e. within each category product with highest margin should sit on the top. Save the query as top_five_products_each_category, containing the following columns:\n",
    "\n",
    "- category\n",
    "- product_name\n",
    "- product_total_sales (rounded to two decimal places)\n",
    "- product_total_profit (rounded to two decimal places)\n",
    "- product_rank"
   ]
  },
  {
   "cell_type": "code",
   "execution_count": null,
   "id": "5c2a00a9-2231-45b9-97be-13a7ebec4d2b",
   "metadata": {
    "customType": "sql",
    "dataFrameVariableName": "top_five_products_each_category",
    "executionCancelledAt": null,
    "executionTime": null,
    "integrationExample": {
     "example": "-- Explore the data in the table\nSELECT *\nFROM companies\nLIMIT 5",
     "sqlSource": {
      "integrationId": "89e17161-a224-4a8a-846b-0adc0fe7a4b1",
      "integrationType": "postgresql",
      "type": "integration"
     }
    },
    "lastExecutedAt": null,
    "lastExecutedByKernel": null,
    "lastScheduledRunId": null,
    "lastSuccessfullyExecutedCode": null,
    "outputsMetadata": {
     "0": {
      "height": 534,
      "tableState": {
       "customFilter": {
        "const": {
         "type": "boolean",
         "valid": true,
         "value": true
        },
        "id": "fbe065ce-0a7e-435f-b196-8abcd38febfa",
        "nodeType": "const"
       }
      },
      "type": "dataFrame"
     }
    },
    "sqlCellMode": "dataFrame",
    "sqlSource": {
     "integrationId": "89e17161-a224-4a8a-846b-0adc0fe7a4b1",
     "integrationType": "postgresql",
     "type": "integration"
    }
   },
   "outputs": [],
   "source": [
    "-- top_five_products_each_category\n",
    "WITH RankedProducts AS (\n",
    "    SELECT\n",
    "        p.category,\n",
    "        p.product_name,\n",
    "        SUM(o.sales) AS product_total_sales,\n",
    "        SUM(o.profit) AS product_total_profit,\n",
    "        RANK() OVER (PARTITION BY p.category ORDER BY SUM(o.sales) DESC) AS product_rank\n",
    "    FROM products AS p\n",
    "    INNER JOIN orders AS o\n",
    "        ON p.product_id = o.product_id\n",
    "    GROUP BY p.category, p.product_name\n",
    ")\n",
    "-- Pega os 5 primeiros de cada grupo\n",
    "SELECT *\n",
    "FROM RankedProducts\n",
    "WHERE product_rank <= 5\n",
    "ORDER BY category, product_total_sales DESC;"
   ]
  },
  {
   "cell_type": "markdown",
   "id": "6ca111af",
   "metadata": {},
   "source": [
    "Calculate the quantity for orders with missing values in the quantity column by determining the unit price for each product_id using available order data, considering relevant pricing factors such as discount, market, or region. Then, use this unit price to estimate the missing quantity values. The calculated values should be stored in the calculated_quantity column. Save query output as impute_missing_values, containing the following columns:\n",
    "\n",
    "- product_id\n",
    "- discount\n",
    "- market\n",
    "- region\n",
    "- sales\n",
    "- quantity\n",
    "- calculated_quantity (rounded to zero decimal places)"
   ]
  },
  {
   "cell_type": "code",
   "execution_count": null,
   "id": "51dae08e-abc4-4e45-a051-55d28703ed4d",
   "metadata": {
    "customType": "sql",
    "dataFrameVariableName": "impute_missing_values",
    "executionCancelledAt": null,
    "executionTime": null,
    "integrationExample": {
     "example": "-- Explore the data in the table\nSELECT *\nFROM companies\nLIMIT 5",
     "sqlSource": {
      "integrationId": "89e17161-a224-4a8a-846b-0adc0fe7a4b1",
      "integrationType": "postgresql",
      "type": "integration"
     }
    },
    "lastExecutedAt": null,
    "lastExecutedByKernel": null,
    "lastScheduledRunId": null,
    "lastSuccessfullyExecutedCode": null,
    "outputsMetadata": {
     "0": {
      "height": 249,
      "tableState": {
       "customFilter": {
        "const": {
         "type": "boolean",
         "valid": true,
         "value": true
        },
        "id": "fbe065ce-0a7e-435f-b196-8abcd38febfa",
        "nodeType": "const"
       }
      },
      "type": "dataFrame"
     }
    },
    "sqlCellMode": "dataFrame",
    "sqlSource": {
     "integrationId": "89e17161-a224-4a8a-846b-0adc0fe7a4b1",
     "integrationType": "postgresql",
     "type": "integration"
    }
   },
   "outputs": [],
   "source": [
    "WITH average_unit_prices AS (\n",
    "    SELECT\n",
    "        product_id,\n",
    "        discount,\n",
    "        market,\n",
    "        region,\n",
    "        -- Calcula o preço unitário médio/ponderado\n",
    "        SUM(sales) / SUM(quantity) AS estimated_unit_price\n",
    "    FROM orders\n",
    "    -- Filtra apenas os pedidos que têm dados completos e válidos\n",
    "    WHERE quantity IS NOT NULL AND sales IS NOT NULL AND quantity > 0\n",
    "    -- Agrupa para ter um preço por combinação de produto, desconto, mercado e região\n",
    "    GROUP BY\n",
    "        product_id,\n",
    "        discount,\n",
    "        market,\n",
    "        region\n",
    "),\n",
    "missing_quantities AS (\n",
    "    SELECT\n",
    "        product_id,\n",
    "        discount,\n",
    "        market,\n",
    "        region,\n",
    "        sales,\n",
    "        quantity -- Vai ser NULL aqui\n",
    "    FROM orders\n",
    "    WHERE quantity IS NULL\n",
    ")\n",
    "SELECT\n",
    "    mq.product_id,\n",
    "    mq.discount,\n",
    "    mq.market,\n",
    "    mq.region,\n",
    "    mq.sales,\n",
    "    mq.quantity,\n",
    "    -- Converte a divisão para NUMERIC antes de arredondar\n",
    "    ROUND(CAST(mq.sales / aup.estimated_unit_price AS NUMERIC), 0) AS calculated_quantity\n",
    "FROM missing_quantities AS mq\n",
    "INNER JOIN average_unit_prices AS aup\n",
    "    ON mq.product_id = aup.product_id\n",
    "    AND mq.discount = aup.discount\n",
    "    AND mq.market = aup.market\n",
    "    AND mq.region = aup.region\n",
    "ORDER BY\n",
    "    mq.product_id,\n",
    "    mq.market,\n",
    "    mq.region;"
   ]
  }
 ],
 "metadata": {
  "colab": {
   "name": "Welcome to DataCamp Workspaces.ipynb",
   "provenance": []
  },
  "editor": "DataLab",
  "kernelspec": {
   "display_name": "kernel-leet",
   "language": "python",
   "name": "kernel-leet"
  },
  "language_info": {
   "codemirror_mode": {
    "name": "ipython",
    "version": 3
   },
   "file_extension": ".py",
   "mimetype": "text/x-python",
   "name": "python",
   "nbconvert_exporter": "python",
   "pygments_lexer": "ipython3",
   "version": "3.12.3"
  }
 },
 "nbformat": 4,
 "nbformat_minor": 5
}
